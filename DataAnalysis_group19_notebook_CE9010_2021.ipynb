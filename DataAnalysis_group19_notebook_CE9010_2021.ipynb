{
 "cells": [
  {
   "cell_type": "markdown",
   "metadata": {},
   "source": [
    "### Import Required Libraries"
   ]
  },
  {
   "cell_type": "code",
   "execution_count": 1,
   "metadata": {},
   "outputs": [],
   "source": [
    "import warnings\n",
    "warnings.filterwarnings('ignore')\n",
    "\n",
    "#importing the libraries\n",
    "import numpy as np\n",
    "import pandas as pd\n",
    "import matplotlib.pyplot as plt\n",
    "import seaborn as sns"
   ]
  },
  {
   "cell_type": "code",
   "execution_count": 2,
   "metadata": {},
   "outputs": [
    {
     "data": {
      "text/html": [
       "<div>\n",
       "<style scoped>\n",
       "    .dataframe tbody tr th:only-of-type {\n",
       "        vertical-align: middle;\n",
       "    }\n",
       "\n",
       "    .dataframe tbody tr th {\n",
       "        vertical-align: top;\n",
       "    }\n",
       "\n",
       "    .dataframe thead th {\n",
       "        text-align: right;\n",
       "    }\n",
       "</style>\n",
       "<table border=\"1\" class=\"dataframe\">\n",
       "  <thead>\n",
       "    <tr style=\"text-align: right;\">\n",
       "      <th></th>\n",
       "      <th>Img_url</th>\n",
       "      <th>Car Brand</th>\n",
       "      <th>Make &amp; Model</th>\n",
       "      <th>Price</th>\n",
       "      <th>Reg Year</th>\n",
       "      <th>Depreciation</th>\n",
       "      <th>Reg Date</th>\n",
       "      <th>Eng Cap</th>\n",
       "      <th>Mileage</th>\n",
       "      <th>Vechical Type</th>\n",
       "      <th>Status</th>\n",
       "      <th>Unnamed: 11</th>\n",
       "      <th>Unnamed: 12</th>\n",
       "    </tr>\n",
       "  </thead>\n",
       "  <tbody>\n",
       "    <tr>\n",
       "      <th>0</th>\n",
       "      <td>https://i.i sgcm.com/cars_used/202104/984475_s...</td>\n",
       "      <td>Toyota Vellfire</td>\n",
       "      <td>2.4A Z</td>\n",
       "      <td>NaN</td>\n",
       "      <td>2013.0</td>\n",
       "      <td></td>\n",
       "      <td>26/03/2013</td>\n",
       "      <td>2,362 cc</td>\n",
       "      <td></td>\n",
       "      <td>MPV</td>\n",
       "      <td>Available</td>\n",
       "      <td>NaN</td>\n",
       "      <td>NaN</td>\n",
       "    </tr>\n",
       "    <tr>\n",
       "      <th>1</th>\n",
       "      <td>https://i.i sgcm.com/cars_used/202104/984466_s...</td>\n",
       "      <td>MINI One</td>\n",
       "      <td>1.2A</td>\n",
       "      <td>$55,588</td>\n",
       "      <td>2014.0</td>\n",
       "      <td></td>\n",
       "      <td>22/08/2014</td>\n",
       "      <td>1,198 cc</td>\n",
       "      <td></td>\n",
       "      <td>Hatchback</td>\n",
       "      <td>Available</td>\n",
       "      <td>NaN</td>\n",
       "      <td>NaN</td>\n",
       "    </tr>\n",
       "    <tr>\n",
       "      <th>2</th>\n",
       "      <td>https://i.i sgcm.com/cars_used/202102/966514_s...</td>\n",
       "      <td>Ssangyong Tivoli</td>\n",
       "      <td>Diesel 1.6A</td>\n",
       "      <td>$64,900</td>\n",
       "      <td>2017.0</td>\n",
       "      <td>$9,260 /yr</td>\n",
       "      <td>24/02/2017</td>\n",
       "      <td>1,597 cc</td>\n",
       "      <td>76,368 km</td>\n",
       "      <td>SUV</td>\n",
       "      <td>Available</td>\n",
       "      <td>NaN</td>\n",
       "      <td>NaN</td>\n",
       "    </tr>\n",
       "    <tr>\n",
       "      <th>3</th>\n",
       "      <td>https://i.i sgcm.com/cars_used/202104/985239_s...</td>\n",
       "      <td>Volkswagen Passat</td>\n",
       "      <td>CC 1.8T  (COE till 04/2029)</td>\n",
       "      <td>$64,888</td>\n",
       "      <td>2009.0</td>\n",
       "      <td>$8,060 /yr</td>\n",
       "      <td>22/07/2009</td>\n",
       "      <td>1,798 cc</td>\n",
       "      <td>201,527 km</td>\n",
       "      <td>Luxury</td>\n",
       "      <td>Available</td>\n",
       "      <td>NaN</td>\n",
       "      <td>NaN</td>\n",
       "    </tr>\n",
       "    <tr>\n",
       "      <th>4</th>\n",
       "      <td>https://i.i sgcm.com/cars_used/202104/985237_s...</td>\n",
       "      <td>Mercedes Benz E Class</td>\n",
       "      <td>E200 CGI</td>\n",
       "      <td>$35,800</td>\n",
       "      <td>2011.0</td>\n",
       "      <td></td>\n",
       "      <td>19/05/2011</td>\n",
       "      <td>1,796 cc</td>\n",
       "      <td>205,000 km</td>\n",
       "      <td>Luxury</td>\n",
       "      <td>Available</td>\n",
       "      <td>NaN</td>\n",
       "      <td>NaN</td>\n",
       "    </tr>\n",
       "  </tbody>\n",
       "</table>\n",
       "</div>"
      ],
      "text/plain": [
       "                                             Img_url              Car Brand  \\\n",
       "0  https://i.i sgcm.com/cars_used/202104/984475_s...        Toyota Vellfire   \n",
       "1  https://i.i sgcm.com/cars_used/202104/984466_s...               MINI One   \n",
       "2  https://i.i sgcm.com/cars_used/202102/966514_s...       Ssangyong Tivoli   \n",
       "3  https://i.i sgcm.com/cars_used/202104/985239_s...      Volkswagen Passat   \n",
       "4  https://i.i sgcm.com/cars_used/202104/985237_s...  Mercedes Benz E Class   \n",
       "\n",
       "                      Make & Model    Price  Reg Year Depreciation  \\\n",
       "0                  2.4A Z               NaN    2013.0                \n",
       "1                    1.2A           $55,588    2014.0                \n",
       "2              Diesel 1.6A          $64,900    2017.0   $9,260 /yr   \n",
       "3  CC 1.8T  (COE till 04/2029)      $64,888    2009.0   $8,060 /yr   \n",
       "4                 E200 CGI          $35,800    2011.0                \n",
       "\n",
       "     Reg Date   Eng Cap     Mileage Vechical Type     Status  Unnamed: 11  \\\n",
       "0  26/03/2013  2,362 cc                       MPV  Available          NaN   \n",
       "1  22/08/2014  1,198 cc                 Hatchback  Available          NaN   \n",
       "2  24/02/2017  1,597 cc   76,368 km           SUV  Available          NaN   \n",
       "3  22/07/2009  1,798 cc  201,527 km        Luxury  Available          NaN   \n",
       "4  19/05/2011  1,796 cc  205,000 km        Luxury  Available          NaN   \n",
       "\n",
       "   Unnamed: 12  \n",
       "0          NaN  \n",
       "1          NaN  \n",
       "2          NaN  \n",
       "3          NaN  \n",
       "4          NaN  "
      ]
     },
     "execution_count": 2,
     "metadata": {},
     "output_type": "execute_result"
    }
   ],
   "source": [
    "df = pd.read_csv('CleanedDataUpdated_group19_CE9010_2021.csv')\n",
    "df.head()"
   ]
  },
  {
   "cell_type": "markdown",
   "metadata": {},
   "source": [
    "### Data Cleaning"
   ]
  },
  {
   "cell_type": "code",
   "execution_count": 3,
   "metadata": {},
   "outputs": [
    {
     "data": {
      "text/html": [
       "<div>\n",
       "<style scoped>\n",
       "    .dataframe tbody tr th:only-of-type {\n",
       "        vertical-align: middle;\n",
       "    }\n",
       "\n",
       "    .dataframe tbody tr th {\n",
       "        vertical-align: top;\n",
       "    }\n",
       "\n",
       "    .dataframe thead th {\n",
       "        text-align: right;\n",
       "    }\n",
       "</style>\n",
       "<table border=\"1\" class=\"dataframe\">\n",
       "  <thead>\n",
       "    <tr style=\"text-align: right;\">\n",
       "      <th></th>\n",
       "      <th>Img_url</th>\n",
       "      <th>Car Brand</th>\n",
       "      <th>Make &amp; Model</th>\n",
       "      <th>Depreciation</th>\n",
       "      <th>Reg Year</th>\n",
       "      <th>Eng Cap</th>\n",
       "      <th>Mileage</th>\n",
       "      <th>Vechical Type</th>\n",
       "      <th>Status</th>\n",
       "      <th>Price</th>\n",
       "    </tr>\n",
       "  </thead>\n",
       "  <tbody>\n",
       "    <tr>\n",
       "      <th>0</th>\n",
       "      <td>https://i.i sgcm.com/cars_used/202104/984475_s...</td>\n",
       "      <td>Toyota Vellfire</td>\n",
       "      <td>2.4A Z</td>\n",
       "      <td></td>\n",
       "      <td>2013.0</td>\n",
       "      <td>2,362 cc</td>\n",
       "      <td></td>\n",
       "      <td>MPV</td>\n",
       "      <td>Available</td>\n",
       "      <td>NaN</td>\n",
       "    </tr>\n",
       "    <tr>\n",
       "      <th>1</th>\n",
       "      <td>https://i.i sgcm.com/cars_used/202104/984466_s...</td>\n",
       "      <td>MINI One</td>\n",
       "      <td>1.2A</td>\n",
       "      <td></td>\n",
       "      <td>2014.0</td>\n",
       "      <td>1,198 cc</td>\n",
       "      <td></td>\n",
       "      <td>Hatchback</td>\n",
       "      <td>Available</td>\n",
       "      <td>$55,588</td>\n",
       "    </tr>\n",
       "    <tr>\n",
       "      <th>2</th>\n",
       "      <td>https://i.i sgcm.com/cars_used/202102/966514_s...</td>\n",
       "      <td>Ssangyong Tivoli</td>\n",
       "      <td>Diesel 1.6A</td>\n",
       "      <td>$9,260 /yr</td>\n",
       "      <td>2017.0</td>\n",
       "      <td>1,597 cc</td>\n",
       "      <td>76,368 km</td>\n",
       "      <td>SUV</td>\n",
       "      <td>Available</td>\n",
       "      <td>$64,900</td>\n",
       "    </tr>\n",
       "    <tr>\n",
       "      <th>3</th>\n",
       "      <td>https://i.i sgcm.com/cars_used/202104/985239_s...</td>\n",
       "      <td>Volkswagen Passat</td>\n",
       "      <td>CC 1.8T  (COE till 04/2029)</td>\n",
       "      <td>$8,060 /yr</td>\n",
       "      <td>2009.0</td>\n",
       "      <td>1,798 cc</td>\n",
       "      <td>201,527 km</td>\n",
       "      <td>Luxury</td>\n",
       "      <td>Available</td>\n",
       "      <td>$64,888</td>\n",
       "    </tr>\n",
       "    <tr>\n",
       "      <th>4</th>\n",
       "      <td>https://i.i sgcm.com/cars_used/202104/985237_s...</td>\n",
       "      <td>Mercedes Benz E Class</td>\n",
       "      <td>E200 CGI</td>\n",
       "      <td></td>\n",
       "      <td>2011.0</td>\n",
       "      <td>1,796 cc</td>\n",
       "      <td>205,000 km</td>\n",
       "      <td>Luxury</td>\n",
       "      <td>Available</td>\n",
       "      <td>$35,800</td>\n",
       "    </tr>\n",
       "  </tbody>\n",
       "</table>\n",
       "</div>"
      ],
      "text/plain": [
       "                                             Img_url              Car Brand  \\\n",
       "0  https://i.i sgcm.com/cars_used/202104/984475_s...        Toyota Vellfire   \n",
       "1  https://i.i sgcm.com/cars_used/202104/984466_s...               MINI One   \n",
       "2  https://i.i sgcm.com/cars_used/202102/966514_s...       Ssangyong Tivoli   \n",
       "3  https://i.i sgcm.com/cars_used/202104/985239_s...      Volkswagen Passat   \n",
       "4  https://i.i sgcm.com/cars_used/202104/985237_s...  Mercedes Benz E Class   \n",
       "\n",
       "                      Make & Model Depreciation  Reg Year   Eng Cap  \\\n",
       "0                  2.4A Z                          2013.0  2,362 cc   \n",
       "1                    1.2A                          2014.0  1,198 cc   \n",
       "2              Diesel 1.6A           $9,260 /yr    2017.0  1,597 cc   \n",
       "3  CC 1.8T  (COE till 04/2029)       $8,060 /yr    2009.0  1,798 cc   \n",
       "4                 E200 CGI                         2011.0  1,796 cc   \n",
       "\n",
       "      Mileage Vechical Type     Status    Price  \n",
       "0                       MPV  Available      NaN  \n",
       "1                 Hatchback  Available  $55,588  \n",
       "2   76,368 km           SUV  Available  $64,900  \n",
       "3  201,527 km        Luxury  Available  $64,888  \n",
       "4  205,000 km        Luxury  Available  $35,800  "
      ]
     },
     "execution_count": 3,
     "metadata": {},
     "output_type": "execute_result"
    }
   ],
   "source": [
    "#Reindexing DataFrame so that price feature will at last\n",
    "df= df.reindex(columns=['Img_url', 'Car Brand', 'Make & Model', 'Depreciation', 'Reg Year',\n",
    "       'Eng Cap', 'Mileage', 'Vechical Type', 'Status', 'Price'])\n",
    "df.head()"
   ]
  },
  {
   "cell_type": "markdown",
   "metadata": {},
   "source": [
    "#### Remove Irrelevant features"
   ]
  },
  {
   "cell_type": "code",
   "execution_count": 4,
   "metadata": {},
   "outputs": [
    {
     "data": {
      "text/html": [
       "<div>\n",
       "<style scoped>\n",
       "    .dataframe tbody tr th:only-of-type {\n",
       "        vertical-align: middle;\n",
       "    }\n",
       "\n",
       "    .dataframe tbody tr th {\n",
       "        vertical-align: top;\n",
       "    }\n",
       "\n",
       "    .dataframe thead th {\n",
       "        text-align: right;\n",
       "    }\n",
       "</style>\n",
       "<table border=\"1\" class=\"dataframe\">\n",
       "  <thead>\n",
       "    <tr style=\"text-align: right;\">\n",
       "      <th></th>\n",
       "      <th>Car Brand</th>\n",
       "      <th>Make &amp; Model</th>\n",
       "      <th>Depreciation</th>\n",
       "      <th>Reg Year</th>\n",
       "      <th>Eng Cap</th>\n",
       "      <th>Mileage</th>\n",
       "      <th>Vechical Type</th>\n",
       "      <th>Status</th>\n",
       "      <th>Price</th>\n",
       "    </tr>\n",
       "  </thead>\n",
       "  <tbody>\n",
       "    <tr>\n",
       "      <th>0</th>\n",
       "      <td>Toyota Vellfire</td>\n",
       "      <td>2.4A Z</td>\n",
       "      <td></td>\n",
       "      <td>2013.0</td>\n",
       "      <td>2,362 cc</td>\n",
       "      <td></td>\n",
       "      <td>MPV</td>\n",
       "      <td>Available</td>\n",
       "      <td>NaN</td>\n",
       "    </tr>\n",
       "    <tr>\n",
       "      <th>1</th>\n",
       "      <td>MINI One</td>\n",
       "      <td>1.2A</td>\n",
       "      <td></td>\n",
       "      <td>2014.0</td>\n",
       "      <td>1,198 cc</td>\n",
       "      <td></td>\n",
       "      <td>Hatchback</td>\n",
       "      <td>Available</td>\n",
       "      <td>$55,588</td>\n",
       "    </tr>\n",
       "    <tr>\n",
       "      <th>2</th>\n",
       "      <td>Ssangyong Tivoli</td>\n",
       "      <td>Diesel 1.6A</td>\n",
       "      <td>$9,260 /yr</td>\n",
       "      <td>2017.0</td>\n",
       "      <td>1,597 cc</td>\n",
       "      <td>76,368 km</td>\n",
       "      <td>SUV</td>\n",
       "      <td>Available</td>\n",
       "      <td>$64,900</td>\n",
       "    </tr>\n",
       "    <tr>\n",
       "      <th>3</th>\n",
       "      <td>Volkswagen Passat</td>\n",
       "      <td>CC 1.8T  (COE till 04/2029)</td>\n",
       "      <td>$8,060 /yr</td>\n",
       "      <td>2009.0</td>\n",
       "      <td>1,798 cc</td>\n",
       "      <td>201,527 km</td>\n",
       "      <td>Luxury</td>\n",
       "      <td>Available</td>\n",
       "      <td>$64,888</td>\n",
       "    </tr>\n",
       "    <tr>\n",
       "      <th>4</th>\n",
       "      <td>Mercedes Benz E Class</td>\n",
       "      <td>E200 CGI</td>\n",
       "      <td></td>\n",
       "      <td>2011.0</td>\n",
       "      <td>1,796 cc</td>\n",
       "      <td>205,000 km</td>\n",
       "      <td>Luxury</td>\n",
       "      <td>Available</td>\n",
       "      <td>$35,800</td>\n",
       "    </tr>\n",
       "  </tbody>\n",
       "</table>\n",
       "</div>"
      ],
      "text/plain": [
       "               Car Brand                     Make & Model Depreciation  \\\n",
       "0        Toyota Vellfire                  2.4A Z                         \n",
       "1               MINI One                    1.2A                         \n",
       "2       Ssangyong Tivoli              Diesel 1.6A           $9,260 /yr   \n",
       "3      Volkswagen Passat  CC 1.8T  (COE till 04/2029)       $8,060 /yr   \n",
       "4  Mercedes Benz E Class                 E200 CGI                        \n",
       "\n",
       "   Reg Year   Eng Cap     Mileage Vechical Type     Status    Price  \n",
       "0    2013.0  2,362 cc                       MPV  Available      NaN  \n",
       "1    2014.0  1,198 cc                 Hatchback  Available  $55,588  \n",
       "2    2017.0  1,597 cc   76,368 km           SUV  Available  $64,900  \n",
       "3    2009.0  1,798 cc  201,527 km        Luxury  Available  $64,888  \n",
       "4    2011.0  1,796 cc  205,000 km        Luxury  Available  $35,800  "
      ]
     },
     "execution_count": 4,
     "metadata": {},
     "output_type": "execute_result"
    }
   ],
   "source": [
    "df2=df.copy()\n",
    "df2=df2.drop(columns=['Img_url'])\n",
    "df2.head()"
   ]
  },
  {
   "cell_type": "code",
   "execution_count": 5,
   "metadata": {},
   "outputs": [
    {
     "data": {
      "text/html": [
       "<div>\n",
       "<style scoped>\n",
       "    .dataframe tbody tr th:only-of-type {\n",
       "        vertical-align: middle;\n",
       "    }\n",
       "\n",
       "    .dataframe tbody tr th {\n",
       "        vertical-align: top;\n",
       "    }\n",
       "\n",
       "    .dataframe thead th {\n",
       "        text-align: right;\n",
       "    }\n",
       "</style>\n",
       "<table border=\"1\" class=\"dataframe\">\n",
       "  <thead>\n",
       "    <tr style=\"text-align: right;\">\n",
       "      <th></th>\n",
       "      <th>Car Brand</th>\n",
       "      <th>Make &amp; Model</th>\n",
       "      <th>Depreciation</th>\n",
       "      <th>Reg Year</th>\n",
       "      <th>Eng Cap</th>\n",
       "      <th>Mileage</th>\n",
       "      <th>Vechical Type</th>\n",
       "      <th>Status</th>\n",
       "      <th>Price</th>\n",
       "    </tr>\n",
       "  </thead>\n",
       "  <tbody>\n",
       "    <tr>\n",
       "      <th>0</th>\n",
       "      <td>Toyota Vellfire</td>\n",
       "      <td>2.4A Z</td>\n",
       "      <td>NaN</td>\n",
       "      <td>2013.0</td>\n",
       "      <td>2,362 cc</td>\n",
       "      <td>NaN</td>\n",
       "      <td>MPV</td>\n",
       "      <td>Available</td>\n",
       "      <td>NaN</td>\n",
       "    </tr>\n",
       "    <tr>\n",
       "      <th>1</th>\n",
       "      <td>MINI One</td>\n",
       "      <td>1.2A</td>\n",
       "      <td>NaN</td>\n",
       "      <td>2014.0</td>\n",
       "      <td>1,198 cc</td>\n",
       "      <td>NaN</td>\n",
       "      <td>Hatchback</td>\n",
       "      <td>Available</td>\n",
       "      <td>$55,588</td>\n",
       "    </tr>\n",
       "    <tr>\n",
       "      <th>2</th>\n",
       "      <td>Ssangyong Tivoli</td>\n",
       "      <td>Diesel 1.6A</td>\n",
       "      <td>$9,260 /yr</td>\n",
       "      <td>2017.0</td>\n",
       "      <td>1,597 cc</td>\n",
       "      <td>76,368 km</td>\n",
       "      <td>SUV</td>\n",
       "      <td>Available</td>\n",
       "      <td>$64,900</td>\n",
       "    </tr>\n",
       "    <tr>\n",
       "      <th>3</th>\n",
       "      <td>Volkswagen Passat</td>\n",
       "      <td>CC 1.8T  (COE till 04/2029)</td>\n",
       "      <td>$8,060 /yr</td>\n",
       "      <td>2009.0</td>\n",
       "      <td>1,798 cc</td>\n",
       "      <td>201,527 km</td>\n",
       "      <td>Luxury</td>\n",
       "      <td>Available</td>\n",
       "      <td>$64,888</td>\n",
       "    </tr>\n",
       "    <tr>\n",
       "      <th>4</th>\n",
       "      <td>Mercedes Benz E Class</td>\n",
       "      <td>E200 CGI</td>\n",
       "      <td>NaN</td>\n",
       "      <td>2011.0</td>\n",
       "      <td>1,796 cc</td>\n",
       "      <td>205,000 km</td>\n",
       "      <td>Luxury</td>\n",
       "      <td>Available</td>\n",
       "      <td>$35,800</td>\n",
       "    </tr>\n",
       "  </tbody>\n",
       "</table>\n",
       "</div>"
      ],
      "text/plain": [
       "               Car Brand                     Make & Model Depreciation  \\\n",
       "0        Toyota Vellfire                  2.4A Z                   NaN   \n",
       "1               MINI One                    1.2A                   NaN   \n",
       "2       Ssangyong Tivoli              Diesel 1.6A           $9,260 /yr   \n",
       "3      Volkswagen Passat  CC 1.8T  (COE till 04/2029)       $8,060 /yr   \n",
       "4  Mercedes Benz E Class                 E200 CGI                  NaN   \n",
       "\n",
       "   Reg Year   Eng Cap     Mileage Vechical Type     Status    Price  \n",
       "0    2013.0  2,362 cc         NaN           MPV  Available      NaN  \n",
       "1    2014.0  1,198 cc         NaN     Hatchback  Available  $55,588  \n",
       "2    2017.0  1,597 cc   76,368 km           SUV  Available  $64,900  \n",
       "3    2009.0  1,798 cc  201,527 km        Luxury  Available  $64,888  \n",
       "4    2011.0  1,796 cc  205,000 km        Luxury  Available  $35,800  "
      ]
     },
     "execution_count": 5,
     "metadata": {},
     "output_type": "execute_result"
    }
   ],
   "source": [
    "#Replace empty values with Nan\n",
    "df2 = df2.replace(r'^\\s*$', np.nan, regex=True)\n",
    "df2.head()"
   ]
  },
  {
   "cell_type": "markdown",
   "metadata": {},
   "source": [
    "### Dealing with missing values"
   ]
  },
  {
   "cell_type": "code",
   "execution_count": 6,
   "metadata": {},
   "outputs": [
    {
     "data": {
      "text/html": [
       "<div>\n",
       "<style scoped>\n",
       "    .dataframe tbody tr th:only-of-type {\n",
       "        vertical-align: middle;\n",
       "    }\n",
       "\n",
       "    .dataframe tbody tr th {\n",
       "        vertical-align: top;\n",
       "    }\n",
       "\n",
       "    .dataframe thead th {\n",
       "        text-align: right;\n",
       "    }\n",
       "</style>\n",
       "<table border=\"1\" class=\"dataframe\">\n",
       "  <thead>\n",
       "    <tr style=\"text-align: right;\">\n",
       "      <th></th>\n",
       "      <th>Missing Values</th>\n",
       "    </tr>\n",
       "  </thead>\n",
       "  <tbody>\n",
       "    <tr>\n",
       "      <th>Mileage</th>\n",
       "      <td>20964</td>\n",
       "    </tr>\n",
       "    <tr>\n",
       "      <th>Depreciation</th>\n",
       "      <td>18279</td>\n",
       "    </tr>\n",
       "    <tr>\n",
       "      <th>Price</th>\n",
       "      <td>17887</td>\n",
       "    </tr>\n",
       "    <tr>\n",
       "      <th>Make &amp; Model</th>\n",
       "      <td>354</td>\n",
       "    </tr>\n",
       "    <tr>\n",
       "      <th>Reg Year</th>\n",
       "      <td>230</td>\n",
       "    </tr>\n",
       "  </tbody>\n",
       "</table>\n",
       "</div>"
      ],
      "text/plain": [
       "              Missing Values\n",
       "Mileage                20964\n",
       "Depreciation           18279\n",
       "Price                  17887\n",
       "Make & Model             354\n",
       "Reg Year                 230"
      ]
     },
     "execution_count": 6,
     "metadata": {},
     "output_type": "execute_result"
    }
   ],
   "source": [
    "#The features with missing values\n",
    "total = df2.isnull().sum().sort_values(ascending=False)\n",
    "missing_data = pd.DataFrame(total, columns = [\"Missing Values\"])\n",
    "missing_data.head(5)"
   ]
  },
  {
   "cell_type": "markdown",
   "metadata": {},
   "source": [
    "<font size = 3><b>We need to convert categroical attrubutes to numerical attributes to fill missing values and further use in analysis.</b>"
   ]
  },
  {
   "cell_type": "code",
   "execution_count": 7,
   "metadata": {},
   "outputs": [],
   "source": [
    "#Remove \"$\" from each value in column\n",
    "df2['Mileage'] = df2['Mileage'].str.replace('km', '')\n",
    "df2['Mileage'] = df2['Mileage'].str.replace(',', '')\n",
    "\n",
    "df2['Depreciation'] = df2['Depreciation'].str.replace('/yr', '')\n",
    "df2['Depreciation'] = df2['Depreciation'].str.replace('$', '')\n",
    "df2['Depreciation'] = df2['Depreciation'].str.replace(',', '')\n",
    "\n",
    "\n",
    "df2['Price'] = df2['Price'].str.replace('$', '')\n",
    "df2['Price'] = df2['Price'].str.replace(',', '')\n",
    "\n",
    "df2['Eng Cap'] = df2['Mileage'].str.replace('cc', '')\n",
    "df2['Eng Cap'] = df2['Mileage'].str.replace(',', '')"
   ]
  },
  {
   "cell_type": "code",
   "execution_count": 8,
   "metadata": {},
   "outputs": [],
   "source": [
    "df2['Mileage'] = df2['Mileage'].astype(float)\n",
    "df2['Depreciation'] = df2['Depreciation'].astype(float)\n",
    "df2['Price'] = df2['Price'].astype(float)\n",
    "df2['Eng Cap'] = df2['Mileage'].astype(float)"
   ]
  },
  {
   "cell_type": "markdown",
   "metadata": {},
   "source": [
    "#### Now features are converted into numerical data type. \n",
    "Filling missing Values"
   ]
  },
  {
   "cell_type": "code",
   "execution_count": 9,
   "metadata": {},
   "outputs": [
    {
     "data": {
      "text/plain": [
       "0"
      ]
     },
     "execution_count": 9,
     "metadata": {},
     "output_type": "execute_result"
    }
   ],
   "source": [
    "features = df2[['Mileage', 'Depreciation', 'Price', 'Eng Cap']]\n",
    "for feature in features:\n",
    "    mean = df2[feature].mean()\n",
    "    std = df2[feature].std()\n",
    "    is_null = df2[feature].isnull().sum()\n",
    "    # Get random numbers between the mean, std and is_null\n",
    "    rand_age = np.random.randint(mean - std, mean + std, size = is_null)\n",
    "    # fill NaN values in Age column with random values generated\n",
    "    age_slice = df2[feature].copy()\n",
    "    age_slice[np.isnan(age_slice)] = rand_age\n",
    "    df2[feature] = age_slice\n",
    "df2[feature].isnull().sum()"
   ]
  },
  {
   "cell_type": "markdown",
   "metadata": {},
   "source": [
    "### Converting Features:\n"
   ]
  },
  {
   "cell_type": "markdown",
   "metadata": {},
   "source": [
    "### Vehicle Type:\n",
    "<font size = 3>Convert 'Vehicle Type' feature into numeric value:"
   ]
  },
  {
   "cell_type": "code",
   "execution_count": 10,
   "metadata": {},
   "outputs": [
    {
     "data": {
      "text/plain": [
       "array(['MPV', 'Hatchback', 'SUV', 'Luxury', 'Sports', 'Sedan', 'Truck',\n",
       "       'Bus', 'Van', 'Others', 'Stationwagon'], dtype=object)"
      ]
     },
     "execution_count": 10,
     "metadata": {},
     "output_type": "execute_result"
    }
   ],
   "source": [
    "df2['Vechical Type'].unique()"
   ]
  },
  {
   "cell_type": "markdown",
   "metadata": {},
   "source": [
    "#### Label Encoding\n",
    "We can encode it like this:\n",
    "    "
   ]
  },
  {
   "cell_type": "markdown",
   "metadata": {},
   "source": [
    "* MPV = 1\n",
    "* Hatchback = 2\n",
    "* SUV = 3\n",
    "* Luxury = 4\n",
    "* Sports = 5\n",
    "* Sedan = 6\n",
    "* Truck = 7\n",
    "* Bus = 8\n",
    "* Van = 9\n",
    "* Others = 10\n",
    "* Stationwagon = 11 "
   ]
  },
  {
   "cell_type": "code",
   "execution_count": 11,
   "metadata": {},
   "outputs": [],
   "source": [
    "encoding = {\"MPV\": 1, \"Hatchback\": 2, \"SUV\": 3, \"Luxury\": 4, \"Sports\": 5, \"Sedan\": 6, \n",
    "            \"Truck\": 7, \"Bus\": 8, \"Van\": 9, \"Others\": 10, \"Stationwagon\": 11}\n",
    "df2['Vechical_Type_Encoded'] = df2['Vechical Type'].map(encoding)"
   ]
  },
  {
   "cell_type": "markdown",
   "metadata": {},
   "source": [
    "### Data Visualization"
   ]
  },
  {
   "cell_type": "code",
   "execution_count": 12,
   "metadata": {},
   "outputs": [
    {
     "data": {
      "image/png": "[encoded data removed]",
      "text/plain": [
       "<matplotlib.figure.Figure at 0x1a0968a7b8>"
      ]
     },
     "metadata": {},
     "output_type": "display_data"
    }
   ],
   "source": [
    "sns.distplot(df2.Price)\n",
    "plt.tight_layout()\n",
    "plt.title(\"Distribution of price\")\n",
    "plt.savefig('Insight-Dist-Plot',dpi=None)\n",
    "plt.show()"
   ]
  },
  {
   "cell_type": "code",
   "execution_count": 13,
   "metadata": {},
   "outputs": [
    {
     "data": {
      "image/png": "[encoded data removed]",
      "text/plain": [
       "<matplotlib.figure.Figure at 0x1a0a7c9be0>"
      ]
     },
     "metadata": {},
     "output_type": "display_data"
    }
   ],
   "source": [
    "fig,axs=plt.subplots()\n",
    "fig.set_size_inches(12,8)\n",
    "\n",
    "p1=sns.barplot(x='Vechical Type',y='Price',data=df2,ax=axs)\n",
    "axs.set_title('Figure 1')\n",
    "\n",
    "plt.savefig('Insight-Figure-1',dpi=None)\n",
    "plt.show()"
   ]
  },
  {
   "cell_type": "code",
   "execution_count": 14,
   "metadata": {},
   "outputs": [
    {
     "data": {
      "image/png": "[encoded data removed]",
      "text/plain": [
       "<matplotlib.figure.Figure at 0x1a0bf95d68>"
      ]
     },
     "metadata": {},
     "output_type": "display_data"
    }
   ],
   "source": [
    "fig,axs=plt.subplots(nrows=2)\n",
    "fig.set_size_inches(20,10)\n",
    "sns.barplot(x='Vechical Type',y='Eng Cap',data=df2,ax=axs[0])\n",
    "sns.barplot(x='Vechical Type',y='Depreciation',data=df2,ax=axs[1])\n",
    "#axs[1].set_xticklabels(df.manufacturer.unique(),rotation=91)\n",
    "axs[0].set_title('Figure 15')\n",
    "axs[1].set_title('Figure 16')\n",
    "plt.tight_layout()\n",
    "plt.show()"
   ]
  },
  {
   "cell_type": "code",
   "execution_count": 15,
   "metadata": {},
   "outputs": [
    {
     "data": {
      "image/png": "[encoded data removed]",
      "text/plain": [
       "<matplotlib.figure.Figure at 0x1a0bf9ccf8>"
      ]
     },
     "metadata": {},
     "output_type": "display_data"
    }
   ],
   "source": [
    "fig,axs=plt.subplots()\n",
    "fig.set_size_inches(12,8)\n",
    "\n",
    "p1=sns.barplot(x='Vechical Type',y='Mileage',data=df2,ax=axs)\n",
    "axs.set_title('Figure 1')\n",
    "\n",
    "plt.savefig('Insight-Figure-1',dpi=None)\n",
    "plt.show()\n"
   ]
  },
  {
   "cell_type": "markdown",
   "metadata": {},
   "source": [
    "### Data Modeling"
   ]
  },
  {
   "cell_type": "code",
   "execution_count": 16,
   "metadata": {},
   "outputs": [
    {
     "name": "stderr",
     "output_type": "stream",
     "text": [
      "ERROR:root:Internal Python error in the inspect module.\n",
      "Below is the traceback from this internal error.\n",
      "\n"
     ]
    },
    {
     "name": "stdout",
     "output_type": "stream",
     "text": [
      "Traceback (most recent call last):\n",
      "  File \"/anaconda3/lib/python3.6/site-packages/IPython/core/interactiveshell.py\", line 2910, in run_code\n",
      "    exec(code_obj, self.user_global_ns, self.user_ns)\n",
      "  File \"<ipython-input-16-3ff1e2ed5da4>\", line 16, in <module>\n",
      "    from yellowbrick.regressor import AlphaSelection\n",
      "ModuleNotFoundError: No module named 'yellowbrick'\n",
      "\n",
      "During handling of the above exception, another exception occurred:\n",
      "\n",
      "Traceback (most recent call last):\n",
      "  File \"/anaconda3/lib/python3.6/site-packages/IPython/core/interactiveshell.py\", line 1828, in showtraceback\n",
      "    stb = value._render_traceback_()\n",
      "AttributeError: 'ModuleNotFoundError' object has no attribute '_render_traceback_'\n",
      "\n",
      "During handling of the above exception, another exception occurred:\n",
      "\n",
      "Traceback (most recent call last):\n",
      "  File \"/anaconda3/lib/python3.6/site-packages/IPython/core/ultratb.py\", line 1090, in get_records\n",
      "    return _fixed_getinnerframes(etb, number_of_lines_of_context, tb_offset)\n",
      "  File \"/anaconda3/lib/python3.6/site-packages/IPython/core/ultratb.py\", line 311, in wrapped\n",
      "    return f(*args, **kwargs)\n",
      "  File \"/anaconda3/lib/python3.6/site-packages/IPython/core/ultratb.py\", line 345, in _fixed_getinnerframes\n",
      "    records = fix_frame_records_filenames(inspect.getinnerframes(etb, context))\n",
      "  File \"/anaconda3/lib/python3.6/inspect.py\", line 1483, in getinnerframes\n",
      "    frameinfo = (tb.tb_frame,) + getframeinfo(tb, context)\n",
      "  File \"/anaconda3/lib/python3.6/inspect.py\", line 1441, in getframeinfo\n",
      "    filename = getsourcefile(frame) or getfile(frame)\n",
      "  File \"/anaconda3/lib/python3.6/inspect.py\", line 696, in getsourcefile\n",
      "    if getattr(getmodule(object, filename), '__loader__', None) is not None:\n",
      "  File \"/anaconda3/lib/python3.6/inspect.py\", line 733, in getmodule\n",
      "    if ismodule(module) and hasattr(module, '__file__'):\n",
      "  File \"/anaconda3/lib/python3.6/site-packages/py/_vendored_packages/apipkg.py\", line 195, in __getattribute__\n",
      "    return getattr(getmod(), name)\n",
      "  File \"/anaconda3/lib/python3.6/site-packages/py/_vendored_packages/apipkg.py\", line 179, in getmod\n",
      "    x = importobj(modpath, None)\n",
      "  File \"/anaconda3/lib/python3.6/site-packages/py/_vendored_packages/apipkg.py\", line 69, in importobj\n",
      "    module = __import__(modpath, None, None, ['__doc__'])\n",
      "  File \"/anaconda3/lib/python3.6/site-packages/pytest.py\", line 13, in <module>\n",
      "    from _pytest.fixtures import fixture, yield_fixture\n",
      "  File \"/anaconda3/lib/python3.6/site-packages/_pytest/fixtures.py\", line 842, in <module>\n",
      "    class FixtureFunctionMarker(object):\n",
      "  File \"/anaconda3/lib/python3.6/site-packages/_pytest/fixtures.py\", line 844, in FixtureFunctionMarker\n",
      "    params = attr.ib(convert=attr.converters.optional(tuple))\n",
      "TypeError: attrib() got an unexpected keyword argument 'convert'\n"
     ]
    },
    {
     "ename": "ModuleNotFoundError",
     "evalue": "No module named 'yellowbrick'",
     "output_type": "error",
     "traceback": [
      "\u001b[0;31m---------------------------------------------------------------------------\u001b[0m"
     ]
    }
   ],
   "source": [
    "#libraries for preprocessing\n",
    "from sklearn import preprocessing\n",
    "from sklearn.preprocessing import StandardScaler\n",
    "from sklearn.preprocessing import MinMaxScaler\n",
    "\n",
    "#libraries for evaluation\n",
    "from sklearn.metrics import mean_squared_log_error,r2_score,mean_squared_error\n",
    "from sklearn.model_selection import train_test_split\n",
    "\n",
    "\n",
    "#libraries for models\n",
    "from sklearn.linear_model import LinearRegression\n",
    "\n",
    "from sklearn.linear_model import Ridge\n",
    "from sklearn.linear_model import LassoCV,RidgeCV\n",
    "from yellowbrick.regressor import AlphaSelection\n",
    "\n",
    "from sklearn.linear_model import Lasso\n",
    "\n",
    "from sklearn.neighbors import KNeighborsRegressor\n",
    "\n",
    "from sklearn.ensemble import RandomForestRegressor\n",
    "\n",
    "from sklearn.tree import DecisionTreeRegressor\n",
    "from sklearn.svm import SVR\n",
    "\n",
    "\n",
    "\n",
    "import warnings\n",
    "warnings.filterwarnings('ignore')"
   ]
  },
  {
   "cell_type": "markdown",
   "metadata": {},
   "source": [
    "We can look into correaltion of Price attribute with other features"
   ]
  },
  {
   "cell_type": "code",
   "execution_count": 17,
   "metadata": {},
   "outputs": [
    {
     "data": {
      "image/png": "[encoded data removed]",
      "text/plain": [
       "<matplotlib.figure.Figure at 0x1a15061438>"
      ]
     },
     "metadata": {},
     "output_type": "display_data"
    }
   ],
   "source": [
    "plt.figure(figsize=(12,8))\n",
    "cor = df2.corr()\n",
    "sns.heatmap(cor, annot=True, cmap=plt.cm.Reds)\n",
    "plt.show()"
   ]
  },
  {
   "cell_type": "markdown",
   "metadata": {},
   "source": [
    "<font size = 3>Further Elaboration of Correlation:</font>\n",
    "\n",
    "#### The correlation coefficient has values between -1 to 1.\n",
    "\n",
    "* A value closer to 0 implies weaker correlation (exact 0 implying no correlation)\n",
    "* A value closer to 1 implies stronger positive correlation \n",
    "* A value closer to -1 implies stronger negative correlation  "
   ]
  },
  {
   "cell_type": "markdown",
   "metadata": {},
   "source": [
    "## Model Implementation\n",
    "1)Linear Regression \\\n",
    "2)Ridge Regression \\\n",
    "3)Random Forest Regressor "
   ]
  },
  {
   "cell_type": "code",
   "execution_count": 112,
   "metadata": {},
   "outputs": [],
   "source": [
    "#function for evaluation of model\n",
    "def result(y_test,y_pred):\n",
    "    r=[]\n",
    "    \n",
    "    r.append(r2_score(y_test,y_pred))\n",
    "    r.append(round(r2_score(y_test,y_pred)*100,4))\n",
    "    return (r)\n",
    "\n",
    "#dataframe that store the performance of each model\n",
    "accu=pd.DataFrame(index=['R2 Score','Accuracy(%)'])"
   ]
  },
  {
   "cell_type": "markdown",
   "metadata": {},
   "source": [
    "### Divide the data set into Training set and Test set"
   ]
  },
  {
   "cell_type": "code",
   "execution_count": 45,
   "metadata": {},
   "outputs": [],
   "source": [
    "df3 = df2[['Reg Year' ,'Eng Cap' ,'Mileage' ,'Depreciation' ,'Vechical_Type_Encoded','Price']]"
   ]
  },
  {
   "cell_type": "code",
   "execution_count": 46,
   "metadata": {},
   "outputs": [],
   "source": [
    "import pandas as pd\n",
    "def clean_dataset(df):\n",
    "    assert isinstance(df, pd.DataFrame), \"df needs to be a pd.DataFrame\"\n",
    "    df.dropna(inplace=True)\n",
    "    indices_to_keep = ~df.isin([np.nan, np.inf, -np.inf]).any(1)\n",
    "    return df[indices_to_keep].astype(np.float64)\n",
    "df3 = clean_dataset(df3)"
   ]
  },
  {
   "cell_type": "code",
   "execution_count": 47,
   "metadata": {},
   "outputs": [],
   "source": [
    "X = df3[['Reg Year' ,'Eng Cap' ,'Mileage' ,'Depreciation' ,'Vechical_Type_Encoded']]\n",
    "y = df3['Price']"
   ]
  },
  {
   "cell_type": "code",
   "execution_count": 48,
   "metadata": {},
   "outputs": [
    {
     "data": {
      "text/plain": [
       "array([[-0.20336214, -0.86436395, -1.34714044,  0.2069819 , -1.42034311],\n",
       "       [ 0.00569305,  0.60359305,  1.1171891 ,  1.12729843, -0.98664709],\n",
       "       [ 0.63285859,  0.03276592,  0.03931255, -0.36426222, -0.55295107],\n",
       "       [-1.03958286,  3.20355203,  3.21043642, -0.45594243, -0.11925505],\n",
       "       [-0.6214725 ,  3.29153723,  3.29843099,  0.40432356, -0.11925505]])"
      ]
     },
     "execution_count": 48,
     "metadata": {},
     "output_type": "execute_result"
    }
   ],
   "source": [
    "from sklearn import preprocessing\n",
    "\n",
    "X = preprocessing.StandardScaler().fit(X).transform(X.astype(float))\n",
    "X[0:5]"
   ]
  },
  {
   "cell_type": "code",
   "execution_count": 49,
   "metadata": {},
   "outputs": [],
   "source": [
    "#Divide the independent and dependent variables into training and testing sets(with 25% data for test set)\n",
    "X_train, X_test, y_train, y_test = train_test_split(X, y, test_size=0.25, random_state=1)"
   ]
  },
  {
   "cell_type": "code",
   "execution_count": 64,
   "metadata": {},
   "outputs": [],
   "source": [
    "#function for evaluation of model\n",
    "def result(y_test,y_pred):\n",
    "    r=[]\n",
    "    r.append(np.sqrt(r[0]))\n",
    "    r.append(r2_score(y_test,y_pred))\n",
    "    r.append(round(r2_score(y_test,y_pred)*100,4))\n",
    "    return (r)\n",
    "\n",
    "#dataframe that store the performance of each model\n",
    "accu=pd.DataFrame(index=[ 'R2 Score','Accuracy(%)'])"
   ]
  },
  {
   "cell_type": "markdown",
   "metadata": {},
   "source": [
    "### Linear Regression"
   ]
  },
  {
   "cell_type": "code",
   "execution_count": 65,
   "metadata": {},
   "outputs": [],
   "source": [
    "#fitting model\n",
    "LR=LinearRegression()\n",
    "LR.fit(X_train,y_train)\n",
    "y_pred=LR.predict(X_test)"
   ]
  },
  {
   "cell_type": "code",
   "execution_count": 117,
   "metadata": {},
   "outputs": [
    {
     "name": "stdout",
     "output_type": "stream",
     "text": [
      "Coefficients: \n",
      " [ 5354.6458102  -8366.43352834 -7607.00731995 38623.96229129\n",
      " -1769.07420936]\n",
      "R2 Score : -0.015252948575186442 or -1.5253%\n"
     ]
    }
   ],
   "source": [
    "#calculating error/accuracy\n",
    "r1_lr=result(y_test,y_pred)\n",
    "print('Coefficients: \\n', LR.coef_)\n",
    "print(\"R2 Score : {} or {}%\".format(r1_lr[0],r1_lr[1]))\n",
    "accu['Linear Regression']=r1_lr"
   ]
  },
  {
   "cell_type": "code",
   "execution_count": 54,
   "metadata": {},
   "outputs": [
    {
     "data": {
      "image/png": "[encoded data removed]",
      "text/plain": [
       "<Figure size 720x360 with 1 Axes>"
      ]
     },
     "metadata": {},
     "output_type": "display_data"
    }
   ],
   "source": [
    "#Visualization of true value and predicted\n",
    "\n",
    "df_check = pd.DataFrame({'Actual': y_test, 'Predicted': y_pred})\n",
    "df_check = df_check.sample(20)\n",
    "df_check.plot(kind='bar',figsize=(10,5))\n",
    "plt.grid(which='major', linestyle='-', linewidth='0.1', color='Green')\n",
    "plt.title('Performance of Linear Regression')\n",
    "plt.savefig('Linear-Regression-Performance')\n",
    "plt.show()"
   ]
  },
  {
   "cell_type": "markdown",
   "metadata": {},
   "source": [
    "### Random Forest"
   ]
  },
  {
   "cell_type": "code",
   "execution_count": 130,
   "metadata": {},
   "outputs": [],
   "source": [
    "RFR = RandomForestRegressor(n_estimators=180,random_state=0, min_samples_leaf=1, max_features=0.5, n_jobs=-1, oob_score=True)\n",
    "RFR.fit(X_train,y_train)\n",
    "y_pred1 = RFR.predict(X_test)"
   ]
  },
  {
   "cell_type": "code",
   "execution_count": 131,
   "metadata": {},
   "outputs": [
    {
     "name": "stdout",
     "output_type": "stream",
     "text": [
      "R2 Score : 0.4409915941012391 or 44.0992%\n"
     ]
    }
   ],
   "source": [
    "r5_rf=result(y_test,y_pred1)\n",
    "print(\"R2 Score : {} or {}%\".format(r5_rf[0],r5_rf[1]))\n",
    "accu['RandomForest Regressor']=r5_rf"
   ]
  },
  {
   "cell_type": "code",
   "execution_count": 132,
   "metadata": {},
   "outputs": [
    {
     "data": {
      "image/png": "[encoded data removed]",
      "text/plain": [
       "<Figure size 720x360 with 1 Axes>"
      ]
     },
     "metadata": {},
     "output_type": "display_data"
    }
   ],
   "source": [
    "df_check = pd.DataFrame({'Actual': y_test, 'Predicted': y_pred})\n",
    "df_check = df_check.head(25)\n",
    "#round(df_check,2)\n",
    "df_check.plot(kind='bar',figsize=(10,5))\n",
    "plt.grid(which='major', linestyle='-', linewidth='0.5', color='green')\n",
    "plt.title('Performance of Random Forest')\n",
    "plt.ylabel('Mean Squared Log Error')\n",
    "plt.savefig('Random-Forest-Performance.jpg')\n",
    "plt.show()"
   ]
  },
  {
   "cell_type": "markdown",
   "metadata": {},
   "source": [
    "### Ridge regression"
   ]
  },
  {
   "cell_type": "code",
   "execution_count": 140,
   "metadata": {},
   "outputs": [
    {
     "data": {
      "image/png": "[encoded data removed]",
      "text/plain": [
       "<Figure size 576x396 with 1 Axes>"
      ]
     },
     "metadata": {},
     "output_type": "display_data"
    },
    {
     "data": {
      "text/plain": [
       "<AxesSubplot:title={'center':'RidgeCV Alpha Error'}, xlabel='alpha', ylabel='error (or score)'>"
      ]
     },
     "execution_count": 140,
     "metadata": {},
     "output_type": "execute_result"
    }
   ],
   "source": [
    "#predicting value of alpha\n",
    "\n",
    "alphas = 10**np.linspace(10,-2,400)\n",
    "model = RidgeCV(alphas=alphas)\n",
    "visualizer = AlphaSelection(model)\n",
    "visualizer.fit(X_train,y_train)\n",
    "y_pred2 = visualizer.predict(X_test)\n",
    "visualizer.show()"
   ]
  },
  {
   "cell_type": "code",
   "execution_count": 141,
   "metadata": {},
   "outputs": [
    {
     "name": "stdout",
     "output_type": "stream",
     "text": [
      "R2 Score : 0.21057583447088457 or 21.0576%\n"
     ]
    }
   ],
   "source": [
    "#model evaluation\n",
    "r2_ridge=result(y_test,y_pred2)\n",
    "print(\"R2 Score : {} or {}%\".format(r2_ridge[0],r2_ridge[1]))\n",
    "accu['Ridge Regression']=r2_ridge"
   ]
  },
  {
   "cell_type": "code",
   "execution_count": 142,
   "metadata": {},
   "outputs": [],
   "source": [
    "accu.to_csv('errors.csv')"
   ]
  },
  {
   "cell_type": "code",
   "execution_count": 143,
   "metadata": {},
   "outputs": [
    {
     "data": {
      "text/html": [
       "<div>\n",
       "<style scoped>\n",
       "    .dataframe tbody tr th:only-of-type {\n",
       "        vertical-align: middle;\n",
       "    }\n",
       "\n",
       "    .dataframe tbody tr th {\n",
       "        vertical-align: top;\n",
       "    }\n",
       "\n",
       "    .dataframe thead th {\n",
       "        text-align: right;\n",
       "    }\n",
       "</style>\n",
       "<table border=\"1\" class=\"dataframe\">\n",
       "  <thead>\n",
       "    <tr style=\"text-align: right;\">\n",
       "      <th></th>\n",
       "      <th>Linear Regression</th>\n",
       "      <th>RandomForest Regressor</th>\n",
       "      <th>Ridge Regression</th>\n",
       "    </tr>\n",
       "  </thead>\n",
       "  <tbody>\n",
       "    <tr>\n",
       "      <th>R2 Score</th>\n",
       "      <td>-0.015253</td>\n",
       "      <td>0.440992</td>\n",
       "      <td>0.210576</td>\n",
       "    </tr>\n",
       "    <tr>\n",
       "      <th>Accuracy(%)</th>\n",
       "      <td>-1.525300</td>\n",
       "      <td>44.099200</td>\n",
       "      <td>21.057600</td>\n",
       "    </tr>\n",
       "  </tbody>\n",
       "</table>\n",
       "</div>"
      ],
      "text/plain": [
       "             Linear Regression  RandomForest Regressor  Ridge Regression\n",
       "R2 Score             -0.015253                0.440992          0.210576\n",
       "Accuracy(%)          -1.525300               44.099200         21.057600"
      ]
     },
     "execution_count": 143,
     "metadata": {},
     "output_type": "execute_result"
    }
   ],
   "source": [
    "accu=pd.read_csv('./errors.csv',index_col=0)\n",
    "accu"
   ]
  },
  {
   "cell_type": "code",
   "execution_count": 144,
   "metadata": {},
   "outputs": [],
   "source": [
    "model_accuracy=accu.loc['Accuracy(%)']\n"
   ]
  },
  {
   "cell_type": "code",
   "execution_count": 145,
   "metadata": {},
   "outputs": [
    {
     "data": {
      "image/png": "[encoded data removed]",
      "text/plain": [
       "<Figure size 1440x432 with 1 Axes>"
      ]
     },
     "metadata": {},
     "output_type": "display_data"
    }
   ],
   "source": [
    "\n",
    "x=list(range(len(model_accuracy)))\n",
    "y=list(range(0,101,10))\n",
    "props = dict(boxstyle='round', facecolor='white', alpha=0.8)\n",
    "plt.figure(figsize=(20,6))\n",
    "plt.plot(model_accuracy)\n",
    "plt.yticks(y)\n",
    "plt.xticks(fontsize=20)\n",
    "plt.xticks(rotation = (10))\n",
    "plt.xlabel(\"Models\",fontsize=30)\n",
    "plt.ylabel(\"Accuracy(%)\",fontsize=30)\n",
    "plt.title(\"Performance of Models\")\n",
    "for a,b in zip(x,y):\n",
    "    b=model_accuracy[a]\n",
    "    val=\"(\"+str(round(model_accuracy[a],2))+\" %)\"\n",
    "    plt.text(a, b+4.5, val,horizontalalignment='center',verticalalignment='center',color='green',bbox=props)\n",
    "    plt.text(a, b+3.5, '.',horizontalalignment='center',verticalalignment='center',color='red',fontsize=50)\n",
    "plt.tight_layout()\n",
    "plt.savefig('Overall-Performance.jpg',dpi=600)\n",
    "plt.show();\n"
   ]
  },
  {
   "cell_type": "markdown",
   "metadata": {},
   "source": [
    "<center> <font size = 4> <b>THE END"
   ]
  },
  {
   "cell_type": "code",
   "execution_count": null,
   "metadata": {},
   "outputs": [],
   "source": []
  }
 ],
 "metadata": {
  "kernelspec": {
   "display_name": "Python 3",
   "language": "python",
   "name": "python3"
  },
  "language_info": {
   "codemirror_mode": {
    "name": "ipython",
    "version": 3
   },
   "file_extension": ".py",
   "mimetype": "text/x-python",
   "name": "python",
   "nbconvert_exporter": "python",
   "pygments_lexer": "ipython3",
   "version": "3.6.4"
  }
 },
 "nbformat": 4,
 "nbformat_minor": 4
}
